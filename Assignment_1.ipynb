{
  "nbformat": 4,
  "nbformat_minor": 0,
  "metadata": {
    "colab": {
      "provenance": []
    },
    "kernelspec": {
      "name": "python3",
      "display_name": "Python 3"
    },
    "language_info": {
      "name": "python"
    }
  },
  "cells": [
    {
      "cell_type": "markdown",
      "source": [
        "#Assignment"
      ],
      "metadata": {
        "id": "Y8GY2XHWUuDi"
      }
    },
    {
      "cell_type": "markdown",
      "source": [
        "#Theoritical Questions"
      ],
      "metadata": {
        "id": "_dTk_iUjWKur"
      }
    },
    {
      "cell_type": "markdown",
      "source": [
        "**1. What is Python, and why is it popular?**\n",
        "- Python is a high-level programming language known for its simple, readable syntax. It's popular because it's easy to learn, has a huge community, and is used in many fields like web development, data science, AI, and automation.\n",
        "\n",
        "**2. What is an interpreter in Python?**\n",
        "- An interpreter in Python is a program that reads and executes Python code line by line. It translates each line of code into machine language so the computer can understand and run it. Python doesn’t need to be compiled before running; instead, the interpreter runs the code directly, which makes it easier to test and debug.\n",
        "\n",
        "**3.What are pre-defined keywords in Python?**\n",
        "- Pre-defined keywords in Python are special reserved words that have specific meanings and uses in the language. You can't use them as variable names, function names, or identifiers because Python uses them to define the structure and rules of the code. Examples include;\n",
        "\n",
        "      False, await, else, import, pass\n",
        "      None, break, except, in, raise\n",
        "      True, class, finally, is, return\n",
        "      and, continue, for, lambda, try\n",
        "      as, def, from, nonlocal, while\n",
        "      assert, del, global, not, with\n",
        "      async, elif, if, or, yield\n",
        "\n",
        "**4.Can keywords be used as variable names?**\n",
        "- No, keywords cannot be used as variable names in Python.\n",
        "\n",
        "   Because keywords are reserved words that are part of the Python language syntax. Using them as variable names would cause syntax errors or break the logic of your program.\n",
        "\n",
        "**5.What is mutability in Python?**\n",
        "- Mutability in Python refers to whether an object’s value can be changed after it's created. Mutable objects (like lists and dictionaries) can be modified in place.\n",
        "\n",
        "  Example ;\n",
        "      list = [1, 2, 3]\n",
        "      #change first number to 99\n",
        "      list[0] = 99\n",
        "      print(list)\n",
        "      #Output: [99, 2, 3]\n",
        "\n",
        "**6.Why are lists mutable, but tuples are immutable?**\n",
        "- Lists are mutable in Python because they are designed to be flexible containers for storing and updating groups of items. Python assumes that when you're using a list, you might want to:\n",
        "\n",
        " - Add new items\n",
        " - Remove items\n",
        " - Change existing item\n",
        "\n",
        "\n",
        "\n",
        "\n",
        "\n",
        "\n",
        "\n",
        "\n",
        "\n",
        "\n",
        "\n",
        "\n",
        "\n",
        "\n",
        "\n",
        "\n",
        "\n",
        "\n",
        "**7.What is the difference between “==” and “is” operators in Python?**\n",
        "- (== Operator) ;\n",
        "  \n",
        "   The ‘==’ is known as the equality operator.\n",
        "\n",
        "   The == operator helps us compare the equality of objects.\n",
        "\n",
        "\n",
        "We use the == operator in Python when the values of both the operands are very much equal. Thus, the condition would become true here.\n",
        "\n",
        "- (is Operator) ;\n",
        "\n",
        " The ‘is’ is known as the identity operator.\n",
        "\n",
        " The is operator helps us check whether different variables point towards a similar object in the memory.\n",
        "\n",
        " An is operator would evaluate to true whenever the variables present on either side of an operator would point towards the very same object. Otherwise, it would give us a false evaluation.\n",
        "\n",
        "**8.What are logical operators in Python?**\n",
        "- Logical operators in Python are used to combine or compare boolean values (True or False).\n",
        "\n",
        " 🧠 The 3 main logical operators:\n",
        "\n",
        " 1. and\n",
        " 2. or\n",
        " 3. not\n",
        "\n",
        "**9.What is type casting in Python?**\n",
        "\n",
        "- Type casting in Python means converting one data type into another. It’s useful when you need to work with values in a different form — like turning a string into a number so you can do math, or converting a float (like 3.5) into an integer (like 3) to remove the decimal part.\n",
        "\n",
        " For example, if you have a string \"25\" and you want to add 5 to it, you can't do that directly because it's text, not a number. But if you use int(\"25\"), Python will convert the string to the number 25, and then you can add: int(\"25\") + 5 = 30.\n",
        "\n",
        " (Python has built-in functions for this) ;\n",
        "\n",
        " int() for integers\n",
        "\n",
        " float() for decimals\n",
        "\n",
        " str() for strings\n",
        "\n",
        " bool() for True/False\n",
        "\n",
        "**10.What is the difference between implicit and explicit type casting?**\n",
        "-  Type Casting = Changing one data type into another\n",
        "\n",
        " (There are two types: implicit and explicit)\n",
        "- Implicit Type Casting (done automatically by Python)\n",
        "- Explicit Type Casting (done manually by you)\n",
        "  \n",
        "  \n",
        "- (Implicit Type Casting)\n",
        "\n",
        "  Python decides for you when it's safe to convert a value from one type to another — usually from a smaller to a larger data type (like int → float) to avoid data loss.\n",
        "\n",
        "- (Explicit Type Casting)\n",
        "\n",
        "  You tell Python exactly what type you want using functions like int(), float(), or str().\n",
        "\n",
        "**11.What is the purpose of conditional statements in Python?**\n",
        "\n",
        "- The purpose of conditional statements in Python is to allow your program to make decisions and run different code depending on conditions.\n",
        "\n",
        " (The main conditional keywords);\n",
        "\n",
        "  ( if ) — checks a condition\n",
        "\n",
        "  ( elif ) — adds more conditions\n",
        "\n",
        "  ( else ) — runs if nothing else is true\n",
        "\n",
        "   So, conditional statements make your programs smarter and more interactive by reacting to different values or events.\n",
        "\n",
        "**12.How does the elif statement work?**\n",
        "- The elif (short for else if) statement in Python is used to check multiple conditions, one after another, after an initial if condition. It allows you to execute different blocks of code based on which condition is true.\n",
        "\n",
        "  Explanation:\n",
        "  - You start with an if statement.\n",
        "\n",
        "  - If the if condition is True, Python runs that block and skips everything else.\n",
        "\n",
        " - If it's False, Python checks the next elif condition.\n",
        "\n",
        " - You can have multiple elif statements.\n",
        "\n",
        "If none of the if or elif conditions are true, Python runs the else block (if present).\n",
        "\n",
        "  Example ;\n",
        "\n",
        "    temperature = 22\n",
        "    if temperature > 30:\n",
        "       print(\"It's hot outside.\")\n",
        "    elif temperature > 20:\n",
        "       print(\"The weather is nice.\")\n",
        "    elif temperature > 10:\n",
        "       print(\"It's a bit chilly.\")\n",
        "    else:\n",
        "       print(\"It's cold.\")\n",
        "\n",
        "💡 Output:\n",
        "\n",
        "Since temperature is 22, the first if is False, but the first elif (temperature > 20) is True, so it prints:\n",
        "\n",
        "\n",
        "     The weather is nice.\n",
        "     \n",
        "**13.What is the difference between for and while loops?**\n",
        "- (for Loop) ;\n",
        " - A for loop in Python is used for repetition of a specified sequence of elements. It maybe a list, a tuple, a set, a dictionary or even a string.\n",
        "\n",
        "- (while Loop) ;\n",
        " - Python while loop is the control flow statement that repeats a block of code till the time a specified condition is 'True'. It keeps the iteration going until the condition is 'True' and as soon as the condition is 'False', the while loop in Python is terminated and the next line of code is executed which is just ahead of it.\n",
        "\n",
        "- Conclusion ;\n",
        "\n",
        "  Both for and while loops are essential in programming, and the choice between them depends on the nature of the problem. Use for loops for fixed repetitions and while loops for conditions that depend on runtime behavior.\n",
        "\n",
        "**14.Describe a scenario where a while loop is more suitable than a for loop.**\n",
        "\n",
        "- A while loop is more suitable when the number of iterations is not known in advance. For example, in a login system where a user is repeatedly asked to enter the correct password, a while loop is used to keep prompting until the correct input is provided. This type of loop is ideal for condition-based repetition."
      ],
      "metadata": {
        "id": "R_ZRVjLaWWJY"
      }
    },
    {
      "cell_type": "markdown",
      "source": [
        "#Practical Questions"
      ],
      "metadata": {
        "id": "CJi7onSIY8u9"
      }
    },
    {
      "cell_type": "markdown",
      "source": [
        "Q1. Write a Python program to print \"Hello, World!\""
      ],
      "metadata": {
        "id": "V9nbavHnZEg5"
      }
    },
    {
      "cell_type": "code",
      "source": [
        "print(\"Hello World\")"
      ],
      "metadata": {
        "colab": {
          "base_uri": "https://localhost:8080/"
        },
        "id": "xNtCpBQpZNyl",
        "outputId": "59c49c4a-b05a-4fe4-b33f-349920f2c03a"
      },
      "execution_count": null,
      "outputs": [
        {
          "output_type": "stream",
          "name": "stdout",
          "text": [
            "Hello World\n"
          ]
        }
      ]
    },
    {
      "cell_type": "markdown",
      "source": [
        "Q2. Write a Python program that displays your name and age."
      ],
      "metadata": {
        "id": "fD5jZZNFZZFv"
      }
    },
    {
      "cell_type": "code",
      "source": [
        "# Program to display name and age\n",
        "\n",
        "name = \"Rajat\"\n",
        "age = 29\n",
        "\n",
        "print(\"My name is\", name)\n",
        "print(\"I am\", age, \"years old.\")\n"
      ],
      "metadata": {
        "colab": {
          "base_uri": "https://localhost:8080/"
        },
        "id": "wYdvj8szZi8a",
        "outputId": "4e09e61b-a1be-4890-811b-9207efcaf650"
      },
      "execution_count": 2,
      "outputs": [
        {
          "output_type": "stream",
          "name": "stdout",
          "text": [
            "My name is Rajat\n",
            "I am 29 years old.\n"
          ]
        }
      ]
    },
    {
      "cell_type": "markdown",
      "source": [
        "Q3. Write code to print all the pre-defined keywords in Python using the keyword library."
      ],
      "metadata": {
        "id": "ptuGMU_Cadq_"
      }
    },
    {
      "cell_type": "code",
      "source": [
        "# Import the keyword module\n",
        "import keyword\n",
        "\n",
        "# Print all Python keywords\n",
        "print(\"Python Keywords:\")\n",
        "print(keyword.kwlist)\n"
      ],
      "metadata": {
        "colab": {
          "base_uri": "https://localhost:8080/"
        },
        "id": "2u9N-0XUal5x",
        "outputId": "68e01e6e-62c7-48f9-adad-f89b031e086c"
      },
      "execution_count": null,
      "outputs": [
        {
          "output_type": "stream",
          "name": "stdout",
          "text": [
            "Python Keywords:\n",
            "['False', 'None', 'True', 'and', 'as', 'assert', 'async', 'await', 'break', 'class', 'continue', 'def', 'del', 'elif', 'else', 'except', 'finally', 'for', 'from', 'global', 'if', 'import', 'in', 'is', 'lambda', 'nonlocal', 'not', 'or', 'pass', 'raise', 'return', 'try', 'while', 'with', 'yield']\n"
          ]
        }
      ]
    },
    {
      "cell_type": "markdown",
      "source": [
        "Q4. Write a program that checks if a given word is a Python keyword."
      ],
      "metadata": {
        "id": "Hqdtu_ifa7vN"
      }
    },
    {
      "cell_type": "code",
      "source": [
        "import keyword\n",
        "\n",
        "word = input(\"Type a word to check if it's a Python keyword: \")\n",
        "\n",
        "if keyword.iskeyword(word):\n",
        "    print(f\"Yes, '{word}' is a Python keyword.\")\n",
        "else:\n",
        "    print(f\"Nope, '{word}' is not a Python keyword.\")\n"
      ],
      "metadata": {
        "colab": {
          "base_uri": "https://localhost:8080/"
        },
        "id": "LnX7lUv4a-ZP",
        "outputId": "b5b6e2fd-6588-4c5c-9379-ec2e7cda2ce5"
      },
      "execution_count": null,
      "outputs": [
        {
          "output_type": "stream",
          "name": "stdout",
          "text": [
            "Type a word to check if it's a Python keyword: while\n",
            "Yes, 'while' is a Python keyword.\n"
          ]
        }
      ]
    },
    {
      "cell_type": "markdown",
      "source": [
        "Q5. Create a list and tuple in Python, and demonstrate how attempting to change an element works differently\n",
        "for each."
      ],
      "metadata": {
        "id": "hlgS7ZbJbcpN"
      }
    },
    {
      "cell_type": "code",
      "source": [
        "my_list = [10, 20, 30, 40]\n",
        "my_tuple = (10, 20, 30, 40)\n",
        "\n",
        "# Attempt to change an element in the list\n",
        "print(\"Before changing list:\", my_list)\n",
        "my_list[1] = 100  # This will work\n",
        "print(\"After changing list:\", my_list)\n",
        "\n",
        "# Attempt to change an element in the tuple\n",
        "print(\"Before changing tuple:\", my_tuple)\n",
        "try:\n",
        "    my_tuple[1] = 100  # This will raise an error\n",
        "except TypeError as e:\n",
        "    print(f\"Error when changing tuple: {e}\")\n"
      ],
      "metadata": {
        "colab": {
          "base_uri": "https://localhost:8080/"
        },
        "id": "VbzKuTnBbuFR",
        "outputId": "6bcb95c6-4d19-4daf-d844-7e90f1a0410c"
      },
      "execution_count": null,
      "outputs": [
        {
          "output_type": "stream",
          "name": "stdout",
          "text": [
            "Before changing list: [10, 20, 30, 40]\n",
            "After changing list: [10, 100, 30, 40]\n",
            "Before changing tuple: (10, 20, 30, 40)\n",
            "Error when changing tuple: 'tuple' object does not support item assignment\n"
          ]
        }
      ]
    },
    {
      "cell_type": "markdown",
      "source": [
        "Q6. Write a function to demonstrate the behavior of mutable and immutable arguments."
      ],
      "metadata": {
        "id": "N3YLw4Tsb6sZ"
      }
    },
    {
      "cell_type": "code",
      "source": [
        "# Function to demonstrate mutable and immutable arguments\n",
        "def demo_mutable_immutable(arg1, arg2):\n",
        "    # Changing the mutable argument (list)\n",
        "    print(\"Before modifying mutable argument:\", arg1)\n",
        "    arg1.append(100)  # This will modify the list\n",
        "    print(\"After modifying mutable argument:\", arg1)\n",
        "\n",
        "    # Changing the immutable argument (integer)\n",
        "    print(\"Before modifying immutable argument:\", arg2)\n",
        "    arg2 = 200  # This creates a new integer object, not modifying the original\n",
        "    print(\"After modifying immutable argument:\", arg2)\n",
        "\n",
        "# Create a mutable argument (list) and an immutable argument (integer)\n",
        "my_list = [1, 2, 3]\n",
        "my_num = 10\n",
        "\n",
        "# Call the function\n",
        "demo_mutable_immutable(my_list, my_num)\n",
        "\n",
        "# Print the original values to show how they were affected\n",
        "print(\"\\nOriginal list after function call:\", my_list)\n",
        "print(\"Original number after function call:\", my_num)\n"
      ],
      "metadata": {
        "colab": {
          "base_uri": "https://localhost:8080/"
        },
        "id": "dhXG53jwcBIv",
        "outputId": "8098af27-9400-4183-a0b4-e42542598ab1"
      },
      "execution_count": null,
      "outputs": [
        {
          "output_type": "stream",
          "name": "stdout",
          "text": [
            "Before modifying mutable argument: [1, 2, 3]\n",
            "After modifying mutable argument: [1, 2, 3, 100]\n",
            "Before modifying immutable argument: 10\n",
            "After modifying immutable argument: 200\n",
            "\n",
            "Original list after function call: [1, 2, 3, 100]\n",
            "Original number after function call: 10\n"
          ]
        }
      ]
    },
    {
      "cell_type": "markdown",
      "source": [
        "Q7. Write a program that performs basic arithmetic operations on two user-input numbers."
      ],
      "metadata": {
        "id": "xDL0VYtKcgwb"
      }
    },
    {
      "cell_type": "code",
      "source": [
        "# Function to perform arithmetic operations\n",
        "def basic_arithmetic_operations():\n",
        "    # Get user input for two numbers\n",
        "    num1 = float(input(\"Enter the first number: \"))\n",
        "    num2 = float(input(\"Enter the second number: \"))\n",
        "\n",
        "    # Perform and print arithmetic operations\n",
        "    print(f\"\\nResults for {num1} and {num2}:\")\n",
        "\n",
        "    # Addition\n",
        "    print(f\"Addition: {num1} + {num2} = {num1 + num2}\")\n",
        "\n",
        "    # Subtraction\n",
        "    print(f\"Subtraction: {num1} - {num2} = {num1 - num2}\")\n",
        "\n",
        "    # Multiplication\n",
        "    print(f\"Multiplication: {num1} * {num2} = {num1 * num2}\")\n",
        "\n",
        "    # Division (handling division by zero)\n",
        "    if num2 != 0:\n",
        "        print(f\"Division: {num1} / {num2} = {num1 / num2}\")\n",
        "    else:\n",
        "        print(\"Division: Cannot divide by zero.\")\n",
        "\n",
        "# Call the function to execute\n",
        "basic_arithmetic_operations()\n"
      ],
      "metadata": {
        "colab": {
          "base_uri": "https://localhost:8080/"
        },
        "id": "XGd93dpfcqfn",
        "outputId": "6cf6c861-4cd9-458b-a3a6-3774a379a219"
      },
      "execution_count": null,
      "outputs": [
        {
          "output_type": "stream",
          "name": "stdout",
          "text": [
            "Enter the first number: 3\n",
            "Enter the second number: 6\n",
            "\n",
            "Results for 3.0 and 6.0:\n",
            "Addition: 3.0 + 6.0 = 9.0\n",
            "Subtraction: 3.0 - 6.0 = -3.0\n",
            "Multiplication: 3.0 * 6.0 = 18.0\n",
            "Division: 3.0 / 6.0 = 0.5\n"
          ]
        }
      ]
    },
    {
      "cell_type": "markdown",
      "source": [
        "Q8. Write a program to demonstrate the use of logical operators."
      ],
      "metadata": {
        "id": "VBPDsChbcsap"
      }
    },
    {
      "cell_type": "code",
      "source": [
        "# Function to demonstrate logical operators\n",
        "def logical_operators_demo():\n",
        "    # Get user input for two numbers\n",
        "    age = int(input(\"Enter your age: \"))\n",
        "    has_ticket = input(\"Do you have a ticket? (yes/no): \").lower() == 'yes'\n",
        "\n",
        "    # Demonstrate 'and' operator: Both conditions must be True\n",
        "    if age >= 18 and has_ticket:\n",
        "        print(\"You are allowed to enter the movie!\")\n",
        "    else:\n",
        "        print(\"You cannot enter the movie due to age or lack of ticket.\")\n",
        "\n",
        "    # Demonstrate 'or' operator: At least one condition must be True\n",
        "    if age < 18 or not has_ticket:\n",
        "        print(\"You cannot enter because you are either too young or don't have a ticket.\")\n",
        "    else:\n",
        "        print(\"You are good to go!\")\n",
        "\n",
        "    # Demonstrate 'not' operator: Reverses the condition\n",
        "    if not has_ticket:\n",
        "        print(\"You need to buy a ticket!\")\n",
        "    else:\n",
        "        print(\"You already have a ticket, enjoy the show!\")\n",
        "\n",
        "# Call the function\n",
        "logical_operators_demo()\n"
      ],
      "metadata": {
        "colab": {
          "base_uri": "https://localhost:8080/"
        },
        "id": "3Yi5BWrmc6E7",
        "outputId": "e4ba4737-9151-443e-dbb2-98d6f8a6bd01"
      },
      "execution_count": null,
      "outputs": [
        {
          "output_type": "stream",
          "name": "stdout",
          "text": [
            "Enter your age: 24\n",
            "Do you have a ticket? (yes/no): yes\n",
            "You are allowed to enter the movie!\n",
            "You are good to go!\n",
            "You already have a ticket, enjoy the show!\n"
          ]
        }
      ]
    },
    {
      "cell_type": "markdown",
      "source": [
        "Q9. Write a Python program to convert user input from string to integer, float, and boolean types."
      ],
      "metadata": {
        "id": "htbDOeXcc9h3"
      }
    },
    {
      "cell_type": "code",
      "source": [
        "# Function to demonstrate type conversion\n",
        "def type_conversion_demo():\n",
        "    # Get user input as a string\n",
        "    user_input = input(\"Enter a value: \")\n",
        "\n",
        "    # Convert to integer\n",
        "    try:\n",
        "        int_value = int(user_input)\n",
        "        print(f\"Converted to integer: {int_value}\")\n",
        "    except ValueError:\n",
        "        print(\"Cannot convert to integer.\")\n",
        "\n",
        "    # Convert to float\n",
        "    try:\n",
        "        float_value = float(user_input)\n",
        "        print(f\"Converted to float: {float_value}\")\n",
        "    except ValueError:\n",
        "        print(\"Cannot convert to float.\")\n",
        "\n",
        "    # Convert to boolean\n",
        "    if user_input.lower() in ['true', '1', 'yes', 'y']:\n",
        "        bool_value = True\n",
        "    else:\n",
        "        bool_value = False\n",
        "    print(f\"Converted to boolean: {bool_value}\")\n",
        "\n",
        "# Call the function\n",
        "type_conversion_demo()\n"
      ],
      "metadata": {
        "colab": {
          "base_uri": "https://localhost:8080/"
        },
        "id": "UAfT10PCdI2j",
        "outputId": "2a49bc6b-47a0-43ad-ca75-0def189bcfe5"
      },
      "execution_count": null,
      "outputs": [
        {
          "output_type": "stream",
          "name": "stdout",
          "text": [
            "Enter a value: 44\n",
            "Converted to integer: 44\n",
            "Converted to float: 44.0\n",
            "Converted to boolean: False\n"
          ]
        }
      ]
    },
    {
      "cell_type": "markdown",
      "source": [
        "Q10. Write code to demonstrate type casting with list elements."
      ],
      "metadata": {
        "id": "WqiR3KLtdKa4"
      }
    },
    {
      "cell_type": "code",
      "source": [
        "# Original list with string numbers\n",
        "str_list = [\"10\", \"20\", \"30\"]\n",
        "\n",
        "# Convert strings to integers\n",
        "int_list = [int(x) for x in str_list]\n",
        "\n",
        "# Convert integers to floats\n",
        "float_list = [float(x) for x in int_list]\n",
        "\n",
        "# Convert everything back to strings\n",
        "back_to_str = [str(x) for x in float_list]\n",
        "\n",
        "# Print all lists\n",
        "print(\"Original strings:\", str_list)\n",
        "print(\"As integers:\", int_list)\n",
        "print(\"As floats:\", float_list)\n",
        "print(\"Back to strings:\", back_to_str)\n"
      ],
      "metadata": {
        "colab": {
          "base_uri": "https://localhost:8080/"
        },
        "id": "cP8IrX_edrkQ",
        "outputId": "b82e94b0-cb45-4fc9-9533-e5c2d94d5dfa"
      },
      "execution_count": null,
      "outputs": [
        {
          "output_type": "stream",
          "name": "stdout",
          "text": [
            "Original strings: ['10', '20', '30']\n",
            "As integers: [10, 20, 30]\n",
            "As floats: [10.0, 20.0, 30.0]\n",
            "Back to strings: ['10.0', '20.0', '30.0']\n"
          ]
        }
      ]
    },
    {
      "cell_type": "markdown",
      "source": [
        "Q11. Write a program that checks if a number is positive, negative, or zero."
      ],
      "metadata": {
        "id": "9s1md1NudtEy"
      }
    },
    {
      "cell_type": "code",
      "source": [
        "# Get user input\n",
        "num = float(input(\"Enter a number: \"))\n",
        "\n",
        "# Check and print the result\n",
        "if num > 0:\n",
        "    print(\"Positive\")\n",
        "elif num < 0:\n",
        "    print(\"Negative\")\n",
        "else:\n",
        "    print(\"Zero\")\n"
      ],
      "metadata": {
        "id": "gmk21HEMeE49",
        "colab": {
          "base_uri": "https://localhost:8080/"
        },
        "outputId": "f56312fe-05b6-4744-d6c3-4fecd6b7cf7a"
      },
      "execution_count": null,
      "outputs": [
        {
          "output_type": "stream",
          "name": "stdout",
          "text": [
            "Enter a number: 77\n",
            "Positive\n"
          ]
        }
      ]
    },
    {
      "cell_type": "markdown",
      "source": [
        "Q12. Write a for loop to print numbers from 1 to 10."
      ],
      "metadata": {
        "id": "5sPzjXXeeJpM"
      }
    },
    {
      "cell_type": "code",
      "source": [
        "# For loop to print numbers from 1 to 10\n",
        "for i in range(1, 11):\n",
        "    print(i)\n"
      ],
      "metadata": {
        "id": "iYGq1ZckePaA",
        "colab": {
          "base_uri": "https://localhost:8080/"
        },
        "outputId": "292312c1-36f6-42c7-c6ea-1f39cb3c3a2d"
      },
      "execution_count": null,
      "outputs": [
        {
          "output_type": "stream",
          "name": "stdout",
          "text": [
            "1\n",
            "2\n",
            "3\n",
            "4\n",
            "5\n",
            "6\n",
            "7\n",
            "8\n",
            "9\n",
            "10\n"
          ]
        }
      ]
    },
    {
      "cell_type": "markdown",
      "source": [
        "Q13.Write a Python program to find the sum of all even numbers between 1 and 50."
      ],
      "metadata": {
        "id": "2fpgLvx1eQ_Y"
      }
    },
    {
      "cell_type": "code",
      "source": [
        "# Initialize sum to 0\n",
        "total = 0\n",
        "\n",
        "# Loop through even numbers from 2 to 50\n",
        "for num in range(2, 51, 2):\n",
        "    total += num\n",
        "\n",
        "print(\"Sum of all even numbers between 1 and 50:\", total)\n"
      ],
      "metadata": {
        "id": "GkIenbWtf6ur",
        "colab": {
          "base_uri": "https://localhost:8080/"
        },
        "outputId": "76ee1cd0-2e79-44f1-e2f0-959dda2d655e"
      },
      "execution_count": null,
      "outputs": [
        {
          "output_type": "stream",
          "name": "stdout",
          "text": [
            "Sum of all even numbers between 1 and 50: 650\n"
          ]
        }
      ]
    },
    {
      "cell_type": "markdown",
      "source": [
        "Q14. Write a program to reverse a string using a while loop."
      ],
      "metadata": {
        "id": "_NV6wGTgf-y1"
      }
    },
    {
      "cell_type": "code",
      "source": [
        "text = input(\"Enter a string: \")\n",
        "\n",
        "# Initialize an empty string for the reversed result\n",
        "reversed_text = \"\"\n",
        "\n",
        "# Set the index to the last character\n",
        "index = len(text) - 1\n",
        "\n",
        "# Use a while loop to reverse the string\n",
        "while index >= 0:\n",
        "    reversed_text += text[index]\n",
        "    index -= 1\n",
        "\n",
        "print(\"Reversed string:\", reversed_text)\n"
      ],
      "metadata": {
        "id": "WFKrN5Y8gUyd",
        "colab": {
          "base_uri": "https://localhost:8080/"
        },
        "outputId": "1f8c3596-a804-4bef-ee2c-8aabf0c47d59"
      },
      "execution_count": 1,
      "outputs": [
        {
          "output_type": "stream",
          "name": "stdout",
          "text": [
            "Enter a string: Rajat\n",
            "Reversed string: tajaR\n"
          ]
        }
      ]
    },
    {
      "cell_type": "markdown",
      "source": [
        "Q15. Write a Python program to calculate the factorial of a number provided by the user using a while loop."
      ],
      "metadata": {
        "id": "887IonHcgfGK"
      }
    },
    {
      "cell_type": "code",
      "source": [
        "num = int(input(\"Enter a number: \"))\n",
        "\n",
        "factorial = 1\n",
        "i = 1\n",
        "\n",
        "# Use while loop to calculate factorial\n",
        "while i <= num:\n",
        "    factorial *= i\n",
        "    i += 1\n",
        "\n",
        "print(\"Factorial of\", num, \"is\", factorial)\n"
      ],
      "metadata": {
        "id": "BzfQEu6XgxQr",
        "colab": {
          "base_uri": "https://localhost:8080/"
        },
        "outputId": "39135322-4829-49b5-b0ce-e9923b92bad0"
      },
      "execution_count": null,
      "outputs": [
        {
          "output_type": "stream",
          "name": "stdout",
          "text": [
            "Enter a number: 6\n",
            "Factorial of 6 is 720\n"
          ]
        }
      ]
    }
  ]
}